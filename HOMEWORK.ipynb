{
 "cells": [
  {
   "cell_type": "markdown",
   "metadata": {},
   "source": [
    "# 1.データ型の基本操作"
   ]
  },
  {
   "cell_type": "markdown",
   "metadata": {},
   "source": [
    "(1)リストの操作\n",
    "下記のrisk_typeというリストに、以下の要件を実装してください。\n",
    "・オペレーショナルリスクを追加\n",
    "・市場リスクを削除\n",
    "・流動性リスクをモデルリスクに変更"
   ]
  },
  {
   "cell_type": "code",
   "execution_count": 3,
   "metadata": {},
   "outputs": [
    {
     "name": "stdout",
     "output_type": "stream",
     "text": [
      "正解は：['信用リスク', '流動性リスク','オペレーショナルリスク']\n",
      "['信用リスク', '市場リスク', '流動性リスク']\n"
     ]
    }
   ],
   "source": [
    "risk_type = [\"信用リスク\", \"市場リスク\", \"流動性リスク\"]\n",
    "\n",
    "#########start of your code############\n",
    "\n",
    "\n",
    "\n",
    "#########end of your code############\n",
    "print (\"正解は：\")\n",
    "print (\"['信用リスク', 'モデルリスク','オペレーショナルリスク']\")\n",
    "print (risk_type)"
   ]
  },
  {
   "cell_type": "markdown",
   "metadata": {},
   "source": [
    "（2）辞書の操作\n",
    "下記のcompanyという辞書に、以下の要件を実装してください。\n",
    "・Tier1_Rateという項目を追加、値は16.2\n",
    "・locationを削除\n",
    "・number_of_employeesを100000に変更"
   ]
  },
  {
   "cell_type": "code",
   "execution_count": 7,
   "metadata": {},
   "outputs": [
    {
     "name": "stdout",
     "output_type": "stream",
     "text": [
      "正解は：{'name': 'SMBC Gropu', 'number_of_employees': 100000, 'Tier1_Rate': 16.2}\n",
      "{'name': 'SMBC Gropu', 'number_of_employees': 100000, 'Tier1_Rate': 16.2}\n"
     ]
    }
   ],
   "source": [
    "company = {'name': 'SMBC Gropu', 'location': 'Tokyo', 'number_of_employees': 88000}\n",
    "\n",
    "#########start of your code############\n",
    "\n",
    "\n",
    "\n",
    "#########end of your code############\n",
    "\n",
    "print (\"正解は：\")\n",
    "print (\"{'name': 'SMBC Gropu', 'number_of_employees': 100000, 'Tier1_Rate': 16.2}\")\n",
    "print(company)\n"
   ]
  },
  {
   "cell_type": "markdown",
   "metadata": {},
   "source": [
    "# 2.制御構造の基本操作"
   ]
  },
  {
   "cell_type": "markdown",
   "metadata": {},
   "source": [
    "(1)if 文の使用\n",
    "\n",
    "if文を使って、ある人のcredit scoreに基づいて融資判断を決めるアゴリズムを作ってください。\n",
    "\n",
    "実装する機能は：\n",
    "\n",
    "credit score > 800 => 500万円まで貸出できる\n",
    "\n",
    "credit score > 600 => 400万円まで貸出できる\n",
    "\n",
    "credit score > 400 => 300万円まで貸出できる\n",
    "\n",
    "credit score > 200 => 200万円まで貸出できる\n",
    "\n",
    "その他 => 貸出できない\n"
   ]
  },
  {
   "cell_type": "code",
   "execution_count": null,
   "metadata": {},
   "outputs": [],
   "source": [
    "credit_score = 550\n",
    "print (\"正解は：\")\n",
    "print (\"300万円まで貸出できる\")\n",
    "#########start of your code############\n",
    "if :\n",
    "    print (\"500万円まで貸出できる\")\n",
    "\n",
    "elif :\n",
    "    print (\"400万円まで貸出できる\")\n",
    "    \n",
    "elif :\n",
    "    print (\"300万円まで貸出できる\")\n",
    "\n",
    "elif :\n",
    "    print (\"200万円まで貸出できる\")\n",
    "    \n",
    "else:\n",
    "    print (\"貸出できない\")\n",
    "#########end of your code############"
   ]
  },
  {
   "cell_type": "markdown",
   "metadata": {},
   "source": [
    "2. forによる繰返処理\n",
    "\n"
   ]
  },
  {
   "cell_type": "markdown",
   "metadata": {},
   "source": [
    "for循環を使って、name_listにある人々にあいさつするアゴリズムを実装してください。"
   ]
  },
  {
   "cell_type": "code",
   "execution_count": 9,
   "metadata": {},
   "outputs": [
    {
     "name": "stdout",
     "output_type": "stream",
     "text": [
      "正解は：\n",
      "トヨタさん、おはようございます\n",
      "ホンダさん、おはようございます\n",
      "マツダさん、おはようございます\n"
     ]
    }
   ],
   "source": [
    "name_list = [\"トヨタさん\",\"ホンダさん\",\"マツダさん\"]\n",
    "print (\"正解は：\")\n",
    "print (\"トヨタさん、おはようございます\")\n",
    "print (\"ホンダさん、おはようございます\")\n",
    "print (\"マツダさん、おはようございます\")\n",
    "#########start of your code############\n",
    "\n",
    "\n",
    "\n",
    "#########end of your code############"
   ]
  },
  {
   "cell_type": "markdown",
   "metadata": {},
   "source": [
    "# 3.数当てゲームを作ってみる"
   ]
  },
  {
   "cell_type": "markdown",
   "metadata": {},
   "source": [
    "パソコンがランダムで生成した１～１００までの数を、当たるゲームを作ってみる。\n",
    "実装するゲームの流れは、\n",
    "・ユーザーから数字の入力を受ける\n",
    "・数字とパソコンで生成した数字（正解）と比較する\n",
    "・比較の結果、一致であれば、'素晴らしい！ 正解です！'をプリントアウト\n",
    "・不一致であれば、guestは大きすぎなのか、小さいすぎなのか、ヒントをユーザーに与える\n"
   ]
  },
  {
   "cell_type": "code",
   "execution_count": 10,
   "metadata": {},
   "outputs": [
    {
     "name": "stdout",
     "output_type": "stream",
     "text": [
      "100までの数値を入力してください: 50\n",
      "小さすぎです\n",
      "100までの数値を入力してください: 75\n",
      "大きすぎです\n",
      "100までの数値を入力してください: 62\n",
      "大きすぎです\n",
      "100までの数値を入力してください: 56\n",
      "大きすぎです\n",
      "100までの数値を入力してください: 53\n",
      "大きすぎです\n",
      "100までの数値を入力してください: 52\n",
      "大きすぎです\n",
      "100までの数値を入力してください: 51\n",
      "素晴らしい！ 正解です！\n"
     ]
    }
   ],
   "source": [
    "import random\n",
    "answer = random.randint(1, 100)\n",
    "\n",
    "number = int(input('100までの数値を入力してください: '))  \n",
    "#########start of your code############\n",
    "while \n",
    "\n",
    "#########end of your code############\n",
    "print('素晴らしい！ 正解です！')"
   ]
  },
  {
   "cell_type": "markdown",
   "metadata": {},
   "source": [
    "追加要件：\n",
    "guest可能な回数を10回として上限をつけたい場合は、どうしたらいいでしょうか。"
   ]
  }
 ],
 "metadata": {
  "kernelspec": {
   "display_name": "Python 3",
   "language": "python",
   "name": "python3"
  },
  "language_info": {
   "codemirror_mode": {
    "name": "ipython",
    "version": 3
   },
   "file_extension": ".py",
   "mimetype": "text/x-python",
   "name": "python",
   "nbconvert_exporter": "python",
   "pygments_lexer": "ipython3",
   "version": "3.7.4"
  }
 },
 "nbformat": 4,
 "nbformat_minor": 2
}
