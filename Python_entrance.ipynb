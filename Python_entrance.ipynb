{
 "cells": [
  {
   "cell_type": "markdown",
   "metadata": {},
   "source": [
    "初めてのプログラム"
   ]
  },
  {
   "cell_type": "code",
   "execution_count": 1,
   "metadata": {},
   "outputs": [
    {
     "name": "stdout",
     "output_type": "stream",
     "text": [
      "hello world!!\n"
     ]
    }
   ],
   "source": [
    "print (\"hello world!!\")"
   ]
  },
  {
   "cell_type": "markdown",
   "metadata": {},
   "source": [
    "# データ型\n"
   ]
  },
  {
   "cell_type": "markdown",
   "metadata": {},
   "source": [
    "1.数\n",
    "\n",
    "数学上の数と同じ表示の仕方である。\n",
    "計算できる。"
   ]
  },
  {
   "cell_type": "code",
   "execution_count": 2,
   "metadata": {},
   "outputs": [
    {
     "data": {
      "text/plain": [
       "2"
      ]
     },
     "execution_count": 2,
     "metadata": {},
     "output_type": "execute_result"
    }
   ],
   "source": [
    "1+1"
   ]
  },
  {
   "cell_type": "code",
   "execution_count": 7,
   "metadata": {},
   "outputs": [
    {
     "data": {
      "text/plain": [
       "4.5"
      ]
     },
     "execution_count": 7,
     "metadata": {},
     "output_type": "execute_result"
    }
   ],
   "source": [
    "1.5 * 3"
   ]
  },
  {
   "cell_type": "code",
   "execution_count": 6,
   "metadata": {},
   "outputs": [
    {
     "data": {
      "text/plain": [
       "3.3333333333333335"
      ]
     },
     "execution_count": 6,
     "metadata": {},
     "output_type": "execute_result"
    }
   ],
   "source": [
    "10/3"
   ]
  },
  {
   "cell_type": "code",
   "execution_count": 5,
   "metadata": {},
   "outputs": [
    {
     "data": {
      "text/plain": [
       "2.0"
      ]
     },
     "execution_count": 5,
     "metadata": {},
     "output_type": "execute_result"
    }
   ],
   "source": [
    "8/4"
   ]
  },
  {
   "cell_type": "code",
   "execution_count": null,
   "metadata": {},
   "outputs": [],
   "source": [
    "2.文字列型\n",
    "\n",
    "単引用符 ('...') で囲むか、もしくは二重引用符 (\"...\") で囲む\n"
   ]
  },
  {
   "cell_type": "code",
   "execution_count": 8,
   "metadata": {},
   "outputs": [
    {
     "data": {
      "text/plain": [
       "'Hellow World!!'"
      ]
     },
     "execution_count": 8,
     "metadata": {},
     "output_type": "execute_result"
    }
   ],
   "source": [
    "'Hellow World!!'"
   ]
  },
  {
   "cell_type": "code",
   "execution_count": 9,
   "metadata": {},
   "outputs": [
    {
     "data": {
      "text/plain": [
       "'日経平均株価'"
      ]
     },
     "execution_count": 9,
     "metadata": {},
     "output_type": "execute_result"
    }
   ],
   "source": [
    "\"日経平均株価\""
   ]
  },
  {
   "cell_type": "code",
   "execution_count": null,
   "metadata": {},
   "outputs": [],
   "source": [
    "3.ブーリアン型\n",
    "\n",
    "True と　False のみ"
   ]
  },
  {
   "cell_type": "code",
   "execution_count": 21,
   "metadata": {},
   "outputs": [
    {
     "data": {
      "text/plain": [
       "True"
      ]
     },
     "execution_count": 21,
     "metadata": {},
     "output_type": "execute_result"
    }
   ],
   "source": [
    "True"
   ]
  },
  {
   "cell_type": "markdown",
   "metadata": {},
   "source": [
    "and、orとnot計算は可能"
   ]
  },
  {
   "cell_type": "code",
   "execution_count": 22,
   "metadata": {},
   "outputs": [
    {
     "data": {
      "text/plain": [
       "False"
      ]
     },
     "execution_count": 22,
     "metadata": {},
     "output_type": "execute_result"
    }
   ],
   "source": [
    "not(True)"
   ]
  },
  {
   "cell_type": "code",
   "execution_count": 19,
   "metadata": {},
   "outputs": [
    {
     "data": {
      "text/plain": [
       "False"
      ]
     },
     "execution_count": 19,
     "metadata": {},
     "output_type": "execute_result"
    }
   ],
   "source": [
    "True and False"
   ]
  },
  {
   "cell_type": "code",
   "execution_count": 20,
   "metadata": {},
   "outputs": [
    {
     "data": {
      "text/plain": [
       "True"
      ]
     },
     "execution_count": 20,
     "metadata": {},
     "output_type": "execute_result"
    }
   ],
   "source": [
    "True or False"
   ]
  },
  {
   "cell_type": "markdown",
   "metadata": {},
   "source": [
    "4.　None型\n",
    "0でも空白でもない"
   ]
  },
  {
   "cell_type": "code",
   "execution_count": 23,
   "metadata": {},
   "outputs": [],
   "source": [
    "None"
   ]
  },
  {
   "cell_type": "markdown",
   "metadata": {},
   "source": [
    "# 変数"
   ]
  },
  {
   "cell_type": "markdown",
   "metadata": {},
   "source": [
    "他のプログラミング言語と同じ、変数を定義することができる。\n",
    "ただ、Pythonは、動的プログラミング言語であり、変数を定義する際に、データ型を定めることが不要。"
   ]
  },
  {
   "cell_type": "code",
   "execution_count": 25,
   "metadata": {},
   "outputs": [
    {
     "name": "stdout",
     "output_type": "stream",
     "text": [
      "1\n"
     ]
    }
   ],
   "source": [
    "a = 1\n",
    "print (a)"
   ]
  },
  {
   "cell_type": "code",
   "execution_count": null,
   "metadata": {},
   "outputs": [],
   "source": [
    "変数を別の値を付与すると、データタイプも併せて自動に変えられる"
   ]
  },
  {
   "cell_type": "code",
   "execution_count": 27,
   "metadata": {},
   "outputs": [
    {
     "name": "stdout",
     "output_type": "stream",
     "text": [
      "hello world!!\n"
     ]
    }
   ],
   "source": [
    "a = \"hello world!!\"\n",
    "print (a) #aが文字列型に変わった"
   ]
  },
  {
   "cell_type": "markdown",
   "metadata": {},
   "source": [
    "# データ型（Python特有）"
   ]
  },
  {
   "cell_type": "markdown",
   "metadata": {},
   "source": [
    "1. List\n",
    "多数のデータをまとめて扱う。\n",
    "要素には順序があり、インデックスを用いて要素を指定できる。"
   ]
  },
  {
   "cell_type": "markdown",
   "metadata": {},
   "source": [
    "リストを定義するには、角かっこ「[]」の中にそのリストに含めるデータをカンマで区切って並べていく。\n",
    "リストには任意の種類のデータを好きな数だけ格納できる。"
   ]
  },
  {
   "cell_type": "code",
   "execution_count": 30,
   "metadata": {},
   "outputs": [
    {
     "name": "stdout",
     "output_type": "stream",
     "text": [
      "['信用リスク', '市場リスク', '流動性リスク']\n"
     ]
    }
   ],
   "source": [
    "risk_type = [\"信用リスク\", \"市場リスク\", \"流動性リスク\"]\n",
    "print (risk_type)"
   ]
  },
  {
   "cell_type": "markdown",
   "metadata": {},
   "source": [
    "リストに格納された個々のデータのことを「要素」と呼ぶ。\n",
    "要素には、0始まりで「インデックス」が与えられ、\n",
    "リストを代入した変数（あるいはリストそのもの）に「[インデックス番号]」を続けることで、個々の要素にアクセスできる。"
   ]
  },
  {
   "cell_type": "code",
   "execution_count": 31,
   "metadata": {},
   "outputs": [
    {
     "data": {
      "text/plain": [
       "'信用リスク'"
      ]
     },
     "execution_count": 31,
     "metadata": {},
     "output_type": "execute_result"
    }
   ],
   "source": [
    "risk_type[0]"
   ]
  },
  {
   "cell_type": "code",
   "execution_count": 32,
   "metadata": {},
   "outputs": [
    {
     "data": {
      "text/plain": [
       "'市場リスク'"
      ]
     },
     "execution_count": 32,
     "metadata": {},
     "output_type": "execute_result"
    }
   ],
   "source": [
    "risk_type[1]"
   ]
  },
  {
   "cell_type": "code",
   "execution_count": 33,
   "metadata": {},
   "outputs": [
    {
     "data": {
      "text/plain": [
       "'流動性リスク'"
      ]
     },
     "execution_count": 33,
     "metadata": {},
     "output_type": "execute_result"
    }
   ],
   "source": [
    "risk_type[2]"
   ]
  },
  {
   "cell_type": "markdown",
   "metadata": {},
   "source": [
    "リストの要素のスライス:\n",
    "文字列では、インデックス指定の代わりに「[start:end:step]」のようにして、文字列の特定の位置にある複数の文字を一度に取り出せた。"
   ]
  },
  {
   "cell_type": "code",
   "execution_count": 34,
   "metadata": {},
   "outputs": [
    {
     "name": "stdout",
     "output_type": "stream",
     "text": [
      "[1, 2, 3]\n",
      "[0, 1, 2]\n",
      "[5, 6, 7, 8, 9]\n",
      "[1, 3, 5, 7]\n"
     ]
    }
   ],
   "source": [
    "intlist = [0, 1, 2, 3, 4, 5, 6, 7, 8, 9]\n",
    "print(intlist[1:4])  # インデックス1からインデックス3までの3つの要素を取得\n",
    "print(intlist[:3])   # インデックス0からインデックス2までの3つの要素を取得\n",
    "print(intlist[5:])   # インデックス5以降の要素を取得\n",
    "print(intlist[1:9:2])  # インデックス1～8までの範囲にある要素を1つ飛ばしで取得"
   ]
  },
  {
   "cell_type": "code",
   "execution_count": null,
   "metadata": {},
   "outputs": [],
   "source": [
    "リストの要素を変更するコード"
   ]
  },
  {
   "cell_type": "code",
   "execution_count": 36,
   "metadata": {},
   "outputs": [
    {
     "name": "stdout",
     "output_type": "stream",
     "text": [
      "['信用リスク', 'オペレーショナルリスク', '流動性リスク']\n"
     ]
    }
   ],
   "source": [
    "risk_type[1] = \"オペレーショナルリスク\"\n",
    "print (risk_type)"
   ]
  },
  {
   "cell_type": "code",
   "execution_count": 38,
   "metadata": {},
   "outputs": [
    {
     "name": "stdout",
     "output_type": "stream",
     "text": [
      "[10, 11, 12, 13, 14, 5, 6, 7, 8, 9]\n"
     ]
    }
   ],
   "source": [
    "intlist = [0, 1, 2, 3, 4, 5, 6, 7, 8, 9]\n",
    "intlist[0:5] = [10, 11, 12, 13, 14]  # 先頭から5つの要素を変更\n",
    "print (intlist)"
   ]
  },
  {
   "cell_type": "code",
   "execution_count": null,
   "metadata": {},
   "outputs": [],
   "source": [
    "リストへの要素の追加"
   ]
  },
  {
   "cell_type": "code",
   "execution_count": 41,
   "metadata": {},
   "outputs": [
    {
     "name": "stdout",
     "output_type": "stream",
     "text": [
      "['信用リスク', 'オペレーショナルリスク', '流動性リスク', '市場リスク', '市場リスク', '市場リスク']\n"
     ]
    }
   ],
   "source": [
    "risk_type.append('市場リスク')\n",
    "print (risk_type)"
   ]
  },
  {
   "cell_type": "code",
   "execution_count": null,
   "metadata": {},
   "outputs": [],
   "source": [
    "リストの結合"
   ]
  },
  {
   "cell_type": "code",
   "execution_count": 42,
   "metadata": {},
   "outputs": [
    {
     "name": "stdout",
     "output_type": "stream",
     "text": [
      "[10, 11, 12, 13, 14, 5, 6, 7, 8, 9, '信用リスク', 'オペレーショナルリスク', '流動性リスク', '市場リスク', '市場リスク', '市場リスク']\n"
     ]
    }
   ],
   "source": [
    "intlist = intlist + risk_type\n",
    "print (intlist)"
   ]
  },
  {
   "cell_type": "code",
   "execution_count": null,
   "metadata": {},
   "outputs": [],
   "source": [
    "リストからの要素の削除"
   ]
  },
  {
   "cell_type": "code",
   "execution_count": 43,
   "metadata": {},
   "outputs": [
    {
     "name": "stdout",
     "output_type": "stream",
     "text": [
      "[11, 12, 13, 14, 5, 6, 7, 8, 9, '信用リスク', 'オペレーショナルリスク', '流動性リスク', '市場リスク', '市場リスク', '市場リスク']\n"
     ]
    }
   ],
   "source": [
    "del intlist[0]\n",
    "print (intlist)"
   ]
  },
  {
   "cell_type": "markdown",
   "metadata": {},
   "source": [
    "リストを要素にすることで、マトリクスを作ることができる"
   ]
  },
  {
   "cell_type": "code",
   "execution_count": 45,
   "metadata": {},
   "outputs": [
    {
     "name": "stdout",
     "output_type": "stream",
     "text": [
      "[[1, 2], [3, 4]]\n",
      "1\n"
     ]
    }
   ],
   "source": [
    "matrix_sample = [[1, 2], [3, 4]]\n",
    "print (matrix_sample)\n",
    "print (matrix_sample[0][0])"
   ]
  },
  {
   "cell_type": "markdown",
   "metadata": {},
   "source": [
    "文字列もリストとして扱うことができる。\n",
    "例えば"
   ]
  },
  {
   "cell_type": "code",
   "execution_count": 5,
   "metadata": {},
   "outputs": [],
   "source": [
    "a = \"hello world!!\""
   ]
  },
  {
   "cell_type": "code",
   "execution_count": 2,
   "metadata": {},
   "outputs": [
    {
     "name": "stdout",
     "output_type": "stream",
     "text": [
      "h\n"
     ]
    }
   ],
   "source": [
    "print (a[0])"
   ]
  },
  {
   "cell_type": "code",
   "execution_count": 4,
   "metadata": {},
   "outputs": [
    {
     "ename": "TypeError",
     "evalue": "'str' object does not support item assignment",
     "output_type": "error",
     "traceback": [
      "\u001b[1;31m---------------------------------------------------------------------------\u001b[0m",
      "\u001b[1;31mTypeError\u001b[0m                                 Traceback (most recent call last)",
      "\u001b[1;32m<ipython-input-4-032e0d46bda2>\u001b[0m in \u001b[0;36m<module>\u001b[1;34m\u001b[0m\n\u001b[1;32m----> 1\u001b[1;33m \u001b[0ma\u001b[0m\u001b[1;33m[\u001b[0m\u001b[1;36m1\u001b[0m\u001b[1;33m]\u001b[0m \u001b[1;33m=\u001b[0m \u001b[1;34m\"l\"\u001b[0m\u001b[1;33m\u001b[0m\u001b[1;33m\u001b[0m\u001b[0m\n\u001b[0m",
      "\u001b[1;31mTypeError\u001b[0m: 'str' object does not support item assignment"
     ]
    }
   ],
   "source": [
    "ただし、文字列の個別要素は変更できない"
   ]
  },
  {
   "cell_type": "code",
   "execution_count": null,
   "metadata": {},
   "outputs": [],
   "source": [
    "a[1] = \"l\""
   ]
  },
  {
   "cell_type": "markdown",
   "metadata": {},
   "source": [
    "2.Tuple\n",
    "タプルはリストとよく似ている。リストは角かっこ「[]」の中にカンマ区切りで要素を並べて表記したが、タプルでは角かっこの代わりにかっこ「()」を使う。その要素をカンマで区切って並べるのはリストと同様だ。\n",
    "タプルには「その要素を変更できない」という特徴がある。"
   ]
  },
  {
   "cell_type": "code",
   "execution_count": 26,
   "metadata": {},
   "outputs": [
    {
     "name": "stdout",
     "output_type": "stream",
     "text": [
      "('信用リスク', '市場リスク', '流動性リスク', '市場リスク')\n"
     ]
    }
   ],
   "source": [
    "risk_type_tu = (\"信用リスク\", \"市場リスク\", \"流動性リスク\")\n",
    "print (risk_type_tu)"
   ]
  },
  {
   "cell_type": "markdown",
   "metadata": {},
   "source": [
    "タプルの要素の取り出し"
   ]
  },
  {
   "cell_type": "code",
   "execution_count": 9,
   "metadata": {},
   "outputs": [
    {
     "name": "stdout",
     "output_type": "stream",
     "text": [
      "信用リスク\n"
     ]
    }
   ],
   "source": [
    "print(risk_type_tu[0])"
   ]
  },
  {
   "cell_type": "code",
   "execution_count": 10,
   "metadata": {},
   "outputs": [
    {
     "ename": "TypeError",
     "evalue": "'tuple' object does not support item assignment",
     "output_type": "error",
     "traceback": [
      "\u001b[1;31m---------------------------------------------------------------------------\u001b[0m",
      "\u001b[1;31mTypeError\u001b[0m                                 Traceback (most recent call last)",
      "\u001b[1;32m<ipython-input-10-ed755b47e60f>\u001b[0m in \u001b[0;36m<module>\u001b[1;34m\u001b[0m\n\u001b[1;32m----> 1\u001b[1;33m \u001b[0mrisk_type_tu\u001b[0m\u001b[1;33m[\u001b[0m\u001b[1;36m1\u001b[0m\u001b[1;33m]\u001b[0m \u001b[1;33m=\u001b[0m \u001b[1;34m\"オペレーショナルリスク\"\u001b[0m\u001b[1;33m\u001b[0m\u001b[1;33m\u001b[0m\u001b[0m\n\u001b[0m",
      "\u001b[1;31mTypeError\u001b[0m: 'tuple' object does not support item assignment"
     ]
    }
   ],
   "source": [
    "risk_type_tu[1] = \"オペレーショナルリスク\""
   ]
  },
  {
   "cell_type": "markdown",
   "metadata": {},
   "source": [
    "タプルの要素を個別の変数へ代入できる。これを「アンパック」と呼ぶ"
   ]
  },
  {
   "cell_type": "code",
   "execution_count": 12,
   "metadata": {},
   "outputs": [
    {
     "name": "stdout",
     "output_type": "stream",
     "text": [
      "信用リスク\n",
      "市場リスク\n",
      "流動性リスク\n"
     ]
    }
   ],
   "source": [
    "risk1, risk2, risk3 = risk_type_tu\n",
    "print(risk1)\n",
    "print(risk2)\n",
    "print(risk3)"
   ]
  },
  {
   "cell_type": "code",
   "execution_count": null,
   "metadata": {},
   "outputs": [],
   "source": [
    "3.辞書\n",
    "\n",
    "Pythonにおける「辞書」というのは、「キー」と「値」の組で表されるデータ（これからは「項目」と呼ぶ）を複数格納可能なデータのこと。\n",
    "Python（や他のプログラミング言語）における「辞書」はそれと似た、検索に使う「キー」と、そのキーに関連付けられた「値」を格納するデータ構造である。\n",
    "\n",
    "Pythonでは辞書は波かっこ「{}」で囲んで表現する。その中には、今述べた「キー」と「値」の組を、「キー: 値」のようにしてコロンでつなぎ、キーと値の組が複数あれば、それらをカンマで区切って並べていく。\n",
    "    \n",
    "キーには、文字列や整数値などを指定できる（ただし、リストはキーには使えない。理由は後述）。\n",
    "値には整数でも実数（浮動小数点数）でも、リストでも、文字列でも何でも指定できる。    "
   ]
  },
  {
   "cell_type": "code",
   "execution_count": 14,
   "metadata": {},
   "outputs": [
    {
     "name": "stdout",
     "output_type": "stream",
     "text": [
      "{'first_name': 'ken', 'family_name': 'cho', 'age': 28}\n"
     ]
    }
   ],
   "source": [
    "profile = {'first_name': 'ken', 'family_name': 'cho', 'age': 28}\n",
    "print (profile)"
   ]
  },
  {
   "cell_type": "markdown",
   "metadata": {},
   "source": [
    "角かっこによる辞書の値の取得"
   ]
  },
  {
   "cell_type": "code",
   "execution_count": 15,
   "metadata": {},
   "outputs": [
    {
     "name": "stdout",
     "output_type": "stream",
     "text": [
      "ken\n"
     ]
    }
   ],
   "source": [
    "print (profile['first_name'])"
   ]
  },
  {
   "cell_type": "markdown",
   "metadata": {},
   "source": [
    "辞書の項目の変更と追加\n",
    "すでに存在するキーで実行するときに、項目の変更になる"
   ]
  },
  {
   "cell_type": "code",
   "execution_count": 17,
   "metadata": {},
   "outputs": [
    {
     "name": "stdout",
     "output_type": "stream",
     "text": [
      "29\n"
     ]
    }
   ],
   "source": [
    "profile['age']= 29\n",
    "print (profile['age'])"
   ]
  },
  {
   "cell_type": "markdown",
   "metadata": {},
   "source": [
    "一方で、存在しないキーで実行するときに、項目の追加になる\n"
   ]
  },
  {
   "cell_type": "code",
   "execution_count": 18,
   "metadata": {},
   "outputs": [
    {
     "name": "stdout",
     "output_type": "stream",
     "text": [
      "{'first_name': 'ken', 'family_name': 'cho', 'age': 29, 'Department': 'CPRMD'}\n"
     ]
    }
   ],
   "source": [
    "profile['Department']='CPRMD'\n",
    "print (profile)"
   ]
  },
  {
   "attachments": {
    "image.png": {
     "image/png": "[encoded data removed]"
    }
   },
   "cell_type": "markdown",
   "metadata": {},
   "source": [
    "4.集合\n",
    "Pythonにおける「集合」（set）は、数学の集合と似たものだ。つまり、何らかの値が寄り集まったものを表現する。\n",
    "その性質としては、1つの集合には同じ要素が含まれないことと、集合の要素には順番がない\n",
    "\n",
    "![image.png](attachment:image.png)\n",
    "\n",
    "集合は辞書と同様に波かっこ「{}」を使って表現する。\n",
    "ただし、こちらは「キーと値」の組ではなく、その要素をそのまま{}に囲んで表記する。以下に集合を定義する例を示す。"
   ]
  },
  {
   "cell_type": "code",
   "execution_count": 19,
   "metadata": {},
   "outputs": [
    {
     "name": "stdout",
     "output_type": "stream",
     "text": [
      "{'信用リスク', '流動性リスク', '市場リスク'}\n"
     ]
    }
   ],
   "source": [
    "risk_type_set = {\"信用リスク\", \"市場リスク\", \"流動性リスク\"}\n",
    "print (risk_type_set)"
   ]
  },
  {
   "cell_type": "markdown",
   "metadata": {},
   "source": [
    "集合要素の追加"
   ]
  },
  {
   "cell_type": "code",
   "execution_count": 20,
   "metadata": {},
   "outputs": [
    {
     "name": "stdout",
     "output_type": "stream",
     "text": [
      "{'信用リスク', '流動性リスク', '市場リスク', 'オペレーショナルリスク'}\n"
     ]
    }
   ],
   "source": [
    "risk_type_set.add(\"オペレーショナルリスク\")\n",
    "print (risk_type_set)"
   ]
  },
  {
   "cell_type": "markdown",
   "metadata": {},
   "source": [
    "集合要素の削除"
   ]
  },
  {
   "cell_type": "code",
   "execution_count": 21,
   "metadata": {},
   "outputs": [
    {
     "name": "stdout",
     "output_type": "stream",
     "text": [
      "{'信用リスク', '流動性リスク', '市場リスク'}\n"
     ]
    }
   ],
   "source": [
    "risk_type_set.remove(\"オペレーショナルリスク\")\n",
    "print (risk_type_set)"
   ]
  },
  {
   "cell_type": "markdown",
   "metadata": {},
   "source": [
    "集合の和／差／積／対称差を求めることもできる"
   ]
  },
  {
   "attachments": {
    "image.png": {
     "image/png": "[encoded data removed]"
    }
   },
   "cell_type": "markdown",
   "metadata": {},
   "source": [
    "![image.png](attachment:image.png)"
   ]
  },
  {
   "cell_type": "code",
   "execution_count": 25,
   "metadata": {},
   "outputs": [
    {
     "name": "stdout",
     "output_type": "stream",
     "text": [
      "{1, 2, 3, 4, 5, 6, 7}\n",
      "{1, 2, 3}\n",
      "{4}\n",
      "{1, 2, 3, 5, 6, 7}\n"
     ]
    }
   ],
   "source": [
    "set1 = {1, 2, 3, 4}\n",
    "set2 = {4, 5, 6, 7}\n",
    "print (set1.union(set2)) #和\n",
    "print (set1.difference(set2)) #差\n",
    "print (set1.intersection(set2)) #積(せき)\n",
    "print (set1.symmetric_difference(set2)) #対称差\n"
   ]
  }
 ],
 "metadata": {
  "kernelspec": {
   "display_name": "Python 3",
   "language": "python",
   "name": "python3"
  },
  "language_info": {
   "codemirror_mode": {
    "name": "ipython",
    "version": 3
   },
   "file_extension": ".py",
   "mimetype": "text/x-python",
   "name": "python",
   "nbconvert_exporter": "python",
   "pygments_lexer": "ipython3",
   "version": "3.7.4"
  }
 },
 "nbformat": 4,
 "nbformat_minor": 2
}
